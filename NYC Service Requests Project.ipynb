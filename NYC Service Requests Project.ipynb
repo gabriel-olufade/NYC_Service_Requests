{
 "cells": [
  {
   "cell_type": "markdown",
   "metadata": {},
   "source": [
    "# New York City 311 Service Requests"
   ]
  },
  {
   "cell_type": "markdown",
   "metadata": {},
   "source": [
    "In this project, I will analyse which New York City boroughs have recieved the most incident service requests based on the agency involved. The dataset used is a subset from the 311 Service Requests from 2010 to Present dataset on the NYC Open Data website (https://nycopendata.socrata.com/Social-Services/311-Service-Requests-from-2010-to-Present/erm2-nwe9)."
   ]
  },
  {
   "cell_type": "markdown",
   "metadata": {},
   "source": [
    "First, let's import our packages."
   ]
  },
  {
   "cell_type": "code",
   "execution_count": 26,
   "metadata": {},
   "outputs": [],
   "source": [
    "import pandas as pd\n",
    "import numpy as np\n",
    "import matplotlib.pyplot as plt\n",
    "import datetime\n",
    "import warnings\n",
    "warnings.filterwarnings('ignore')"
   ]
  },
  {
   "cell_type": "markdown",
   "metadata": {},
   "source": [
    "Let's take a look at our data."
   ]
  },
  {
   "cell_type": "code",
   "execution_count": 27,
   "metadata": {},
   "outputs": [
    {
     "data": {
      "text/html": [
       "<div>\n",
       "<style scoped>\n",
       "    .dataframe tbody tr th:only-of-type {\n",
       "        vertical-align: middle;\n",
       "    }\n",
       "\n",
       "    .dataframe tbody tr th {\n",
       "        vertical-align: top;\n",
       "    }\n",
       "\n",
       "    .dataframe thead th {\n",
       "        text-align: right;\n",
       "    }\n",
       "</style>\n",
       "<table border=\"1\" class=\"dataframe\">\n",
       "  <thead>\n",
       "    <tr style=\"text-align: right;\">\n",
       "      <th></th>\n",
       "      <th>Unique Key</th>\n",
       "      <th>Created Date</th>\n",
       "      <th>Closed Date</th>\n",
       "      <th>Agency</th>\n",
       "      <th>Incident Zip</th>\n",
       "      <th>Borough</th>\n",
       "      <th>Latitude</th>\n",
       "      <th>Longitude</th>\n",
       "    </tr>\n",
       "  </thead>\n",
       "  <tbody>\n",
       "    <tr>\n",
       "      <th>0</th>\n",
       "      <td>1</td>\n",
       "      <td>10/11/2016 11:53:00 AM</td>\n",
       "      <td>10/11/2016 12:00:00 PM</td>\n",
       "      <td>DSNY</td>\n",
       "      <td>NaN</td>\n",
       "      <td>QUEENS</td>\n",
       "      <td>NaN</td>\n",
       "      <td>NaN</td>\n",
       "    </tr>\n",
       "    <tr>\n",
       "      <th>1</th>\n",
       "      <td>1</td>\n",
       "      <td>10/11/2016 11:36:00 AM</td>\n",
       "      <td>10/11/2016 12:00:00 PM</td>\n",
       "      <td>DSNY</td>\n",
       "      <td>NaN</td>\n",
       "      <td>QUEENS</td>\n",
       "      <td>NaN</td>\n",
       "      <td>NaN</td>\n",
       "    </tr>\n",
       "    <tr>\n",
       "      <th>2</th>\n",
       "      <td>1</td>\n",
       "      <td>10/11/2016 11:36:00 AM</td>\n",
       "      <td>10/11/2016 12:00:00 PM</td>\n",
       "      <td>DSNY</td>\n",
       "      <td>NaN</td>\n",
       "      <td>QUEENS</td>\n",
       "      <td>NaN</td>\n",
       "      <td>NaN</td>\n",
       "    </tr>\n",
       "    <tr>\n",
       "      <th>3</th>\n",
       "      <td>1</td>\n",
       "      <td>10/11/2016 12:39:00 PM</td>\n",
       "      <td>10/11/2016 12:39:00 PM</td>\n",
       "      <td>DSNY</td>\n",
       "      <td>NaN</td>\n",
       "      <td>QUEENS</td>\n",
       "      <td>NaN</td>\n",
       "      <td>NaN</td>\n",
       "    </tr>\n",
       "    <tr>\n",
       "      <th>4</th>\n",
       "      <td>1</td>\n",
       "      <td>10/11/2016 12:18:00 PM</td>\n",
       "      <td>10/11/2016 12:18:00 PM</td>\n",
       "      <td>DSNY</td>\n",
       "      <td>NaN</td>\n",
       "      <td>QUEENS</td>\n",
       "      <td>NaN</td>\n",
       "      <td>NaN</td>\n",
       "    </tr>\n",
       "  </tbody>\n",
       "</table>\n",
       "</div>"
      ],
      "text/plain": [
       "   Unique Key            Created Date             Closed Date Agency  \\\n",
       "0           1  10/11/2016 11:53:00 AM  10/11/2016 12:00:00 PM   DSNY   \n",
       "1           1  10/11/2016 11:36:00 AM  10/11/2016 12:00:00 PM   DSNY   \n",
       "2           1  10/11/2016 11:36:00 AM  10/11/2016 12:00:00 PM   DSNY   \n",
       "3           1  10/11/2016 12:39:00 PM  10/11/2016 12:39:00 PM   DSNY   \n",
       "4           1  10/11/2016 12:18:00 PM  10/11/2016 12:18:00 PM   DSNY   \n",
       "\n",
       "  Incident Zip Borough  Latitude  Longitude  \n",
       "0          NaN  QUEENS       NaN        NaN  \n",
       "1          NaN  QUEENS       NaN        NaN  \n",
       "2          NaN  QUEENS       NaN        NaN  \n",
       "3          NaN  QUEENS       NaN        NaN  \n",
       "4          NaN  QUEENS       NaN        NaN  "
      ]
     },
     "execution_count": 27,
     "metadata": {},
     "output_type": "execute_result"
    }
   ],
   "source": [
    "df = pd.read_csv(\"nyc_311_data_subset.csv\")\n",
    "df.head()"
   ]
  },
  {
   "cell_type": "code",
   "execution_count": 4,
   "metadata": {},
   "outputs": [
    {
     "name": "stdout",
     "output_type": "stream",
     "text": [
      "<class 'pandas.core.frame.DataFrame'>\n",
      "RangeIndex: 971063 entries, 0 to 971062\n",
      "Data columns (total 8 columns):\n",
      " #   Column        Non-Null Count   Dtype  \n",
      "---  ------        --------------   -----  \n",
      " 0   Unique Key    971063 non-null  int64  \n",
      " 1   Created Date  971063 non-null  object \n",
      " 2   Closed Date   882944 non-null  object \n",
      " 3   Agency        971063 non-null  object \n",
      " 4   Incident Zip  911140 non-null  object \n",
      " 5   Borough       971063 non-null  object \n",
      " 6   Latitude      887284 non-null  float64\n",
      " 7   Longitude     887284 non-null  float64\n",
      "dtypes: float64(2), int64(1), object(5)\n",
      "memory usage: 59.3+ MB\n"
     ]
    }
   ],
   "source": [
    "df.info()\n",
    "#comparing the number of entries to the non-null values in addition to the data type of each column"
   ]
  },
  {
   "cell_type": "markdown",
   "metadata": {},
   "source": [
    "To get any statistical significance out of the data, we have to get rid of the null values in it.\n",
    "Therefore, data cleaning is essential in better understanding our data."
   ]
  },
  {
   "cell_type": "markdown",
   "metadata": {},
   "source": [
    "## Data Cleaning"
   ]
  },
  {
   "cell_type": "markdown",
   "metadata": {},
   "source": [
    "In this step, I noticed that the zip codes were not properly formatted: in strings, with more or less than five digits, or extremes. I dropped all rows with null values and unspecified boroughs. Using feature engineering, I created a new column to calculate the time it takes to complete a service request for each incident. I took all these and placed it inside a function that applys these data cleaning processes to the dataset."
   ]
  },
  {
   "cell_type": "code",
   "execution_count": 5,
   "metadata": {},
   "outputs": [],
   "source": [
    "def read_311_data(datafile):\n",
    "    import pandas as pd\n",
    "    import numpy as np\n",
    "    \n",
    "    #Add the fix_zip function\n",
    "    def fix_zip(input_zip):\n",
    "        try:\n",
    "            input_zip = int(float(input_zip))\n",
    "        except:\n",
    "            try:\n",
    "                input_zip = int(input_zip.split('-')[0])\n",
    "            except:\n",
    "                return np.NaN\n",
    "        if input_zip < 10000 or input_zip > 19999:\n",
    "            return np.NaN\n",
    "        return str(input_zip)\n",
    "    \n",
    "    #Read the file\n",
    "    df = pd.read_csv(datafile,index_col='Unique Key')\n",
    "    \n",
    "    #fix the zip\n",
    "    df['Incident Zip'] = df['Incident Zip'].apply(fix_zip)\n",
    "    \n",
    "    #drop all rows that have any nans in them (note the easier syntax!)\n",
    "    \n",
    "    df = df.dropna(how='any')\n",
    "    \n",
    "    #get rid of unspecified boroughs\n",
    "    df = df[df['Borough'] != 'Unspecified']\n",
    "    \n",
    "    #Convert times to datetime and create a processing time column\n",
    "    \n",
    "    import datetime\n",
    "    df['Created Date'] = df['Created Date'].apply(lambda x:datetime.datetime.strptime(x,'%m/%d/%Y %I:%M:%S %p'))\n",
    "    df['Closed Date'] = df['Closed Date'].apply(lambda x:datetime.datetime.strptime(x,'%m/%d/%Y %I:%M:%S %p'))\n",
    "    df['processing_time'] =  df['Closed Date'] - df['Created Date']\n",
    "    \n",
    "    #Finally, get rid of negative processing times and return the final data frame\n",
    "    \n",
    "    df = df[df['processing_time']>=datetime.timedelta(0,0,0)]\n",
    "    \n",
    "    return df"
   ]
  },
  {
   "cell_type": "code",
   "execution_count": 28,
   "metadata": {},
   "outputs": [],
   "source": [
    "datafile = \"nyc_311_data_subset.csv\"\n",
    "data = read_311_data(datafile)"
   ]
  },
  {
   "cell_type": "code",
   "execution_count": 7,
   "metadata": {},
   "outputs": [
    {
     "data": {
      "text/html": [
       "<div>\n",
       "<style scoped>\n",
       "    .dataframe tbody tr th:only-of-type {\n",
       "        vertical-align: middle;\n",
       "    }\n",
       "\n",
       "    .dataframe tbody tr th {\n",
       "        vertical-align: top;\n",
       "    }\n",
       "\n",
       "    .dataframe thead th {\n",
       "        text-align: right;\n",
       "    }\n",
       "</style>\n",
       "<table border=\"1\" class=\"dataframe\">\n",
       "  <thead>\n",
       "    <tr style=\"text-align: right;\">\n",
       "      <th></th>\n",
       "      <th>Created Date</th>\n",
       "      <th>Closed Date</th>\n",
       "      <th>Agency</th>\n",
       "      <th>Incident Zip</th>\n",
       "      <th>Borough</th>\n",
       "      <th>Latitude</th>\n",
       "      <th>Longitude</th>\n",
       "      <th>processing_time</th>\n",
       "    </tr>\n",
       "    <tr>\n",
       "      <th>Unique Key</th>\n",
       "      <th></th>\n",
       "      <th></th>\n",
       "      <th></th>\n",
       "      <th></th>\n",
       "      <th></th>\n",
       "      <th></th>\n",
       "      <th></th>\n",
       "      <th></th>\n",
       "    </tr>\n",
       "  </thead>\n",
       "  <tbody>\n",
       "    <tr>\n",
       "      <th>1</th>\n",
       "      <td>2016-09-01 00:33:42</td>\n",
       "      <td>2016-09-16 01:06:56</td>\n",
       "      <td>DCA</td>\n",
       "      <td>10001</td>\n",
       "      <td>MANHATTAN</td>\n",
       "      <td>40.744790</td>\n",
       "      <td>-73.988834</td>\n",
       "      <td>15 days 00:33:14</td>\n",
       "    </tr>\n",
       "    <tr>\n",
       "      <th>1</th>\n",
       "      <td>2016-09-01 20:16:24</td>\n",
       "      <td>2016-09-10 18:08:25</td>\n",
       "      <td>HPD</td>\n",
       "      <td>11691</td>\n",
       "      <td>QUEENS</td>\n",
       "      <td>40.600554</td>\n",
       "      <td>-73.750704</td>\n",
       "      <td>8 days 21:52:01</td>\n",
       "    </tr>\n",
       "    <tr>\n",
       "      <th>1</th>\n",
       "      <td>2016-09-01 12:17:00</td>\n",
       "      <td>2016-09-07 12:00:00</td>\n",
       "      <td>DSNY</td>\n",
       "      <td>11211</td>\n",
       "      <td>BROOKLYN</td>\n",
       "      <td>40.704925</td>\n",
       "      <td>-73.962007</td>\n",
       "      <td>5 days 23:43:00</td>\n",
       "    </tr>\n",
       "    <tr>\n",
       "      <th>1</th>\n",
       "      <td>2016-09-01 12:10:22</td>\n",
       "      <td>2016-09-10 14:23:44</td>\n",
       "      <td>HPD</td>\n",
       "      <td>10027</td>\n",
       "      <td>MANHATTAN</td>\n",
       "      <td>40.812322</td>\n",
       "      <td>-73.955338</td>\n",
       "      <td>9 days 02:13:22</td>\n",
       "    </tr>\n",
       "    <tr>\n",
       "      <th>1</th>\n",
       "      <td>2016-09-01 12:32:32</td>\n",
       "      <td>2016-09-11 02:03:37</td>\n",
       "      <td>HPD</td>\n",
       "      <td>10452</td>\n",
       "      <td>BRONX</td>\n",
       "      <td>40.839529</td>\n",
       "      <td>-73.922534</td>\n",
       "      <td>9 days 13:31:05</td>\n",
       "    </tr>\n",
       "  </tbody>\n",
       "</table>\n",
       "</div>"
      ],
      "text/plain": [
       "                  Created Date         Closed Date Agency Incident Zip  \\\n",
       "Unique Key                                                               \n",
       "1          2016-09-01 00:33:42 2016-09-16 01:06:56    DCA        10001   \n",
       "1          2016-09-01 20:16:24 2016-09-10 18:08:25    HPD        11691   \n",
       "1          2016-09-01 12:17:00 2016-09-07 12:00:00   DSNY        11211   \n",
       "1          2016-09-01 12:10:22 2016-09-10 14:23:44    HPD        10027   \n",
       "1          2016-09-01 12:32:32 2016-09-11 02:03:37    HPD        10452   \n",
       "\n",
       "              Borough   Latitude  Longitude  processing_time  \n",
       "Unique Key                                                    \n",
       "1           MANHATTAN  40.744790 -73.988834 15 days 00:33:14  \n",
       "1              QUEENS  40.600554 -73.750704  8 days 21:52:01  \n",
       "1            BROOKLYN  40.704925 -73.962007  5 days 23:43:00  \n",
       "1           MANHATTAN  40.812322 -73.955338  9 days 02:13:22  \n",
       "1               BRONX  40.839529 -73.922534  9 days 13:31:05  "
      ]
     },
     "execution_count": 7,
     "metadata": {},
     "output_type": "execute_result"
    }
   ],
   "source": [
    "data.head()"
   ]
  },
  {
   "cell_type": "markdown",
   "metadata": {},
   "source": [
    "## Incidents by Borough"
   ]
  },
  {
   "cell_type": "markdown",
   "metadata": {},
   "source": [
    "Now that our data is cleaned, we can group the data by borough and plot a bar chart of incident count."
   ]
  },
  {
   "cell_type": "code",
   "execution_count": 8,
   "metadata": {},
   "outputs": [
    {
     "data": {
      "image/png": "[encoded data removed]",
      "text/plain": [
       "<Figure size 432x288 with 1 Axes>"
      ]
     },
     "metadata": {
      "needs_background": "light"
     },
     "output_type": "display_data"
    }
   ],
   "source": [
    "%matplotlib inline\n",
    "borough_group = data.groupby('Borough')\n",
    "borough_group.size().plot(kind='bar')\n",
    "#kind can be 'hist', 'scatter'\n",
    "plt.ylabel('Incident counts')\n",
    "plt.title('Incident counts from each borough')\n",
    "plt.show()"
   ]
  },
  {
   "cell_type": "markdown",
   "metadata": {},
   "source": [
    "As you can see Brooklyn has the highest incident counts around 250000 followed by Bronx, Manhattan, and Queens. "
   ]
  },
  {
   "cell_type": "markdown",
   "metadata": {},
   "source": [
    "## Incidents by Agency"
   ]
  },
  {
   "cell_type": "markdown",
   "metadata": {},
   "source": [
    "To dive deeper, we can look at the incident counts across all the agencies."
   ]
  },
  {
   "cell_type": "code",
   "execution_count": 9,
   "metadata": {},
   "outputs": [
    {
     "data": {
      "text/plain": [
       "<matplotlib.axes._subplots.AxesSubplot at 0x20273da5d88>"
      ]
     },
     "execution_count": 9,
     "metadata": {},
     "output_type": "execute_result"
    },
    {
     "data": {
      "image/png": "[encoded data removed]",
      "text/plain": [
       "<Figure size 432x288 with 1 Axes>"
      ]
     },
     "metadata": {
      "needs_background": "light"
     },
     "output_type": "display_data"
    }
   ],
   "source": [
    "agency_group = data.groupby('Agency')\n",
    "agency_group.size().plot(kind='bar')"
   ]
  },
  {
   "cell_type": "markdown",
   "metadata": {},
   "source": [
    "The NYPD and the HPD both have the most service requests. "
   ]
  },
  {
   "cell_type": "markdown",
   "metadata": {},
   "source": [
    "## Incidents by Agency and Borough"
   ]
  },
  {
   "cell_type": "code",
   "execution_count": 14,
   "metadata": {},
   "outputs": [
    {
     "data": {
      "text/plain": [
       "<matplotlib.axes._subplots.AxesSubplot at 0x202732a7988>"
      ]
     },
     "execution_count": 14,
     "metadata": {},
     "output_type": "execute_result"
    },
    {
     "data": {
      "image/png": "[encoded data removed]",
      "text/plain": [
       "<Figure size 792x936 with 1 Axes>"
      ]
     },
     "metadata": {
      "needs_background": "light"
     },
     "output_type": "display_data"
    }
   ],
   "source": [
    "agency_borough = data.groupby(['Agency','Borough'])\n",
    "agency_borough.size().unstack().plot(kind='bar',title=\"Incidents in each Agency by Borough\",figsize=(11,13))"
   ]
  },
  {
   "cell_type": "markdown",
   "metadata": {},
   "source": [
    "Here we can see in depth which agencies were requested in each borough. Brooklyn had the most NYPD and HPD service request incidents. "
   ]
  },
  {
   "cell_type": "markdown",
   "metadata": {},
   "source": [
    "## Incidents by Time"
   ]
  },
  {
   "cell_type": "markdown",
   "metadata": {},
   "source": [
    "We know the creation date of each incident so we can build a bar graph of number of incidents by month. This is not as useful for a few months of data but if we had all the data from 2010, we could use this sort of analysis to eyeball trends and seasonality. "
   ]
  },
  {
   "cell_type": "code",
   "execution_count": 15,
   "metadata": {},
   "outputs": [],
   "source": [
    "data['yyyymm'] = data['Created Date'].apply(lambda x:datetime.datetime.strftime(x,'%Y%m'))\n",
    "#creating a new column with only year and months"
   ]
  },
  {
   "cell_type": "code",
   "execution_count": 17,
   "metadata": {},
   "outputs": [
    {
     "data": {
      "text/plain": [
       "array(['201609', '201611', '201701', '201610', '201612'], dtype=object)"
      ]
     },
     "execution_count": 17,
     "metadata": {},
     "output_type": "execute_result"
    }
   ],
   "source": [
    "data['yyyymm'].unique()"
   ]
  },
  {
   "cell_type": "code",
   "execution_count": 19,
   "metadata": {},
   "outputs": [
    {
     "data": {
      "text/plain": [
       "<matplotlib.axes._subplots.AxesSubplot at 0x202651a1fc8>"
      ]
     },
     "execution_count": 19,
     "metadata": {},
     "output_type": "execute_result"
    },
    {
     "data": {
      "image/png": "[encoded data removed]",
      "text/plain": [
       "<Figure size 792x936 with 1 Axes>"
      ]
     },
     "metadata": {
      "needs_background": "light"
     },
     "output_type": "display_data"
    }
   ],
   "source": [
    "date_agency = data.groupby(['yyyymm','Agency'])\n",
    "date_agency.size().unstack().plot(kind='bar',figsize=(11,13))"
   ]
  },
  {
   "cell_type": "markdown",
   "metadata": {},
   "source": [
    "Housing Property Department service requests rose from September to December 2016. This could be due to the winter season and increased heating complaints."
   ]
  },
  {
   "cell_type": "markdown",
   "metadata": {},
   "source": [
    "I would suggest that the HPD invest resources in accommodating for the predicted increase in service requests around winter based on the data. "
   ]
  },
  {
   "cell_type": "markdown",
   "metadata": {},
   "source": [
    "## Request Processing Time"
   ]
  },
  {
   "cell_type": "code",
   "execution_count": 20,
   "metadata": {},
   "outputs": [],
   "source": [
    "grouped = data[['processing_time','Borough']].groupby('Borough')"
   ]
  },
  {
   "cell_type": "code",
   "execution_count": 21,
   "metadata": {},
   "outputs": [
    {
     "data": {
      "text/html": [
       "<div>\n",
       "<style scoped>\n",
       "    .dataframe tbody tr th:only-of-type {\n",
       "        vertical-align: middle;\n",
       "    }\n",
       "\n",
       "    .dataframe tbody tr th {\n",
       "        vertical-align: top;\n",
       "    }\n",
       "\n",
       "    .dataframe thead tr th {\n",
       "        text-align: left;\n",
       "    }\n",
       "\n",
       "    .dataframe thead tr:last-of-type th {\n",
       "        text-align: right;\n",
       "    }\n",
       "</style>\n",
       "<table border=\"1\" class=\"dataframe\">\n",
       "  <thead>\n",
       "    <tr>\n",
       "      <th></th>\n",
       "      <th colspan=\"8\" halign=\"left\">processing_time</th>\n",
       "    </tr>\n",
       "    <tr>\n",
       "      <th></th>\n",
       "      <th>count</th>\n",
       "      <th>mean</th>\n",
       "      <th>std</th>\n",
       "      <th>min</th>\n",
       "      <th>25%</th>\n",
       "      <th>50%</th>\n",
       "      <th>75%</th>\n",
       "      <th>max</th>\n",
       "    </tr>\n",
       "    <tr>\n",
       "      <th>Borough</th>\n",
       "      <th></th>\n",
       "      <th></th>\n",
       "      <th></th>\n",
       "      <th></th>\n",
       "      <th></th>\n",
       "      <th></th>\n",
       "      <th></th>\n",
       "      <th></th>\n",
       "    </tr>\n",
       "  </thead>\n",
       "  <tbody>\n",
       "    <tr>\n",
       "      <th>BRONX</th>\n",
       "      <td>158548</td>\n",
       "      <td>5 days 11:22:39.529133</td>\n",
       "      <td>10 days 19:29:45.763262</td>\n",
       "      <td>0 days</td>\n",
       "      <td>05:48:38.250000</td>\n",
       "      <td>1 days 21:27:00</td>\n",
       "      <td>5 days 19:48:12.750000</td>\n",
       "      <td>145 days 00:23:57</td>\n",
       "    </tr>\n",
       "    <tr>\n",
       "      <th>BROOKLYN</th>\n",
       "      <td>252515</td>\n",
       "      <td>5 days 01:22:08.762913</td>\n",
       "      <td>11 days 20:44:39.914032</td>\n",
       "      <td>0 days</td>\n",
       "      <td>02:33:20.500000</td>\n",
       "      <td>0 days 20:19:00</td>\n",
       "      <td>4 days 05:20:01</td>\n",
       "      <td>146 days 17:26:50</td>\n",
       "    </tr>\n",
       "    <tr>\n",
       "      <th>MANHATTAN</th>\n",
       "      <td>171708</td>\n",
       "      <td>5 days 07:43:58.957480</td>\n",
       "      <td>12 days 01:57:03.858305</td>\n",
       "      <td>0 days</td>\n",
       "      <td>02:03:43</td>\n",
       "      <td>0 days 22:13:02.500000</td>\n",
       "      <td>4 days 11:06:08.500000</td>\n",
       "      <td>139 days 22:41:59</td>\n",
       "    </tr>\n",
       "    <tr>\n",
       "      <th>QUEENS</th>\n",
       "      <td>177641</td>\n",
       "      <td>4 days 22:17:46.753142</td>\n",
       "      <td>13 days 02:00:32.516708</td>\n",
       "      <td>0 days</td>\n",
       "      <td>02:07:59</td>\n",
       "      <td>0 days 10:15:11</td>\n",
       "      <td>3 days 20:47:00</td>\n",
       "      <td>148 days 13:10:54</td>\n",
       "    </tr>\n",
       "    <tr>\n",
       "      <th>STATEN ISLAND</th>\n",
       "      <td>38911</td>\n",
       "      <td>5 days 00:57:16.541826</td>\n",
       "      <td>12 days 00:18:49.372858</td>\n",
       "      <td>0 days</td>\n",
       "      <td>02:54:00</td>\n",
       "      <td>0 days 22:11:06</td>\n",
       "      <td>4 days 15:24:28</td>\n",
       "      <td>139 days 22:06:35</td>\n",
       "    </tr>\n",
       "  </tbody>\n",
       "</table>\n",
       "</div>"
      ],
      "text/plain": [
       "              processing_time                                                 \\\n",
       "                        count                   mean                     std   \n",
       "Borough                                                                        \n",
       "BRONX                  158548 5 days 11:22:39.529133 10 days 19:29:45.763262   \n",
       "BROOKLYN               252515 5 days 01:22:08.762913 11 days 20:44:39.914032   \n",
       "MANHATTAN              171708 5 days 07:43:58.957480 12 days 01:57:03.858305   \n",
       "QUEENS                 177641 4 days 22:17:46.753142 13 days 02:00:32.516708   \n",
       "STATEN ISLAND           38911 5 days 00:57:16.541826 12 days 00:18:49.372858   \n",
       "\n",
       "                                                             \\\n",
       "                 min             25%                    50%   \n",
       "Borough                                                       \n",
       "BRONX         0 days 05:48:38.250000        1 days 21:27:00   \n",
       "BROOKLYN      0 days 02:33:20.500000        0 days 20:19:00   \n",
       "MANHATTAN     0 days        02:03:43 0 days 22:13:02.500000   \n",
       "QUEENS        0 days        02:07:59        0 days 10:15:11   \n",
       "STATEN ISLAND 0 days        02:54:00        0 days 22:11:06   \n",
       "\n",
       "                                                        \n",
       "                                 75%               max  \n",
       "Borough                                                 \n",
       "BRONX         5 days 19:48:12.750000 145 days 00:23:57  \n",
       "BROOKLYN             4 days 05:20:01 146 days 17:26:50  \n",
       "MANHATTAN     4 days 11:06:08.500000 139 days 22:41:59  \n",
       "QUEENS               3 days 20:47:00 148 days 13:10:54  \n",
       "STATEN ISLAND        4 days 15:24:28 139 days 22:06:35  "
      ]
     },
     "execution_count": 21,
     "metadata": {},
     "output_type": "execute_result"
    }
   ],
   "source": [
    "grouped.describe()"
   ]
  },
  {
   "cell_type": "markdown",
   "metadata": {},
   "source": [
    "The avergae processing time for each borough was roughly five days, but according to this table most of Queens' requests were resolved rather quickly. "
   ]
  },
  {
   "cell_type": "code",
   "execution_count": 22,
   "metadata": {},
   "outputs": [],
   "source": [
    "import numpy as np\n",
    "#The time it takes to process. Cleaned up\n",
    "data['float_time'] =data['processing_time'].apply(lambda x:x/np.timedelta64(1, 'D'))"
   ]
  },
  {
   "cell_type": "code",
   "execution_count": 23,
   "metadata": {},
   "outputs": [
    {
     "data": {
      "text/html": [
       "<div>\n",
       "<style scoped>\n",
       "    .dataframe tbody tr th:only-of-type {\n",
       "        vertical-align: middle;\n",
       "    }\n",
       "\n",
       "    .dataframe tbody tr th {\n",
       "        vertical-align: top;\n",
       "    }\n",
       "\n",
       "    .dataframe thead th {\n",
       "        text-align: right;\n",
       "    }\n",
       "</style>\n",
       "<table border=\"1\" class=\"dataframe\">\n",
       "  <thead>\n",
       "    <tr style=\"text-align: right;\">\n",
       "      <th></th>\n",
       "      <th>Created Date</th>\n",
       "      <th>Closed Date</th>\n",
       "      <th>Agency</th>\n",
       "      <th>Incident Zip</th>\n",
       "      <th>Borough</th>\n",
       "      <th>Latitude</th>\n",
       "      <th>Longitude</th>\n",
       "      <th>processing_time</th>\n",
       "      <th>yyyymm</th>\n",
       "      <th>float_time</th>\n",
       "    </tr>\n",
       "    <tr>\n",
       "      <th>Unique Key</th>\n",
       "      <th></th>\n",
       "      <th></th>\n",
       "      <th></th>\n",
       "      <th></th>\n",
       "      <th></th>\n",
       "      <th></th>\n",
       "      <th></th>\n",
       "      <th></th>\n",
       "      <th></th>\n",
       "      <th></th>\n",
       "    </tr>\n",
       "  </thead>\n",
       "  <tbody>\n",
       "    <tr>\n",
       "      <th>1</th>\n",
       "      <td>2016-09-01 00:33:42</td>\n",
       "      <td>2016-09-16 01:06:56</td>\n",
       "      <td>DCA</td>\n",
       "      <td>10001</td>\n",
       "      <td>MANHATTAN</td>\n",
       "      <td>40.744790</td>\n",
       "      <td>-73.988834</td>\n",
       "      <td>15 days 00:33:14</td>\n",
       "      <td>201609</td>\n",
       "      <td>15.023079</td>\n",
       "    </tr>\n",
       "    <tr>\n",
       "      <th>1</th>\n",
       "      <td>2016-09-01 20:16:24</td>\n",
       "      <td>2016-09-10 18:08:25</td>\n",
       "      <td>HPD</td>\n",
       "      <td>11691</td>\n",
       "      <td>QUEENS</td>\n",
       "      <td>40.600554</td>\n",
       "      <td>-73.750704</td>\n",
       "      <td>8 days 21:52:01</td>\n",
       "      <td>201609</td>\n",
       "      <td>8.911123</td>\n",
       "    </tr>\n",
       "    <tr>\n",
       "      <th>1</th>\n",
       "      <td>2016-09-01 12:17:00</td>\n",
       "      <td>2016-09-07 12:00:00</td>\n",
       "      <td>DSNY</td>\n",
       "      <td>11211</td>\n",
       "      <td>BROOKLYN</td>\n",
       "      <td>40.704925</td>\n",
       "      <td>-73.962007</td>\n",
       "      <td>5 days 23:43:00</td>\n",
       "      <td>201609</td>\n",
       "      <td>5.988194</td>\n",
       "    </tr>\n",
       "    <tr>\n",
       "      <th>1</th>\n",
       "      <td>2016-09-01 12:10:22</td>\n",
       "      <td>2016-09-10 14:23:44</td>\n",
       "      <td>HPD</td>\n",
       "      <td>10027</td>\n",
       "      <td>MANHATTAN</td>\n",
       "      <td>40.812322</td>\n",
       "      <td>-73.955338</td>\n",
       "      <td>9 days 02:13:22</td>\n",
       "      <td>201609</td>\n",
       "      <td>9.092616</td>\n",
       "    </tr>\n",
       "    <tr>\n",
       "      <th>1</th>\n",
       "      <td>2016-09-01 12:32:32</td>\n",
       "      <td>2016-09-11 02:03:37</td>\n",
       "      <td>HPD</td>\n",
       "      <td>10452</td>\n",
       "      <td>BRONX</td>\n",
       "      <td>40.839529</td>\n",
       "      <td>-73.922534</td>\n",
       "      <td>9 days 13:31:05</td>\n",
       "      <td>201609</td>\n",
       "      <td>9.563252</td>\n",
       "    </tr>\n",
       "    <tr>\n",
       "      <th>...</th>\n",
       "      <td>...</td>\n",
       "      <td>...</td>\n",
       "      <td>...</td>\n",
       "      <td>...</td>\n",
       "      <td>...</td>\n",
       "      <td>...</td>\n",
       "      <td>...</td>\n",
       "      <td>...</td>\n",
       "      <td>...</td>\n",
       "      <td>...</td>\n",
       "    </tr>\n",
       "    <tr>\n",
       "      <th>1</th>\n",
       "      <td>2016-09-20 15:02:25</td>\n",
       "      <td>2016-09-24 09:33:13</td>\n",
       "      <td>HPD</td>\n",
       "      <td>10469</td>\n",
       "      <td>BRONX</td>\n",
       "      <td>40.877527</td>\n",
       "      <td>-73.847712</td>\n",
       "      <td>3 days 18:30:48</td>\n",
       "      <td>201609</td>\n",
       "      <td>3.771389</td>\n",
       "    </tr>\n",
       "    <tr>\n",
       "      <th>1</th>\n",
       "      <td>2016-09-20 11:36:47</td>\n",
       "      <td>2016-10-21 20:02:42</td>\n",
       "      <td>HPD</td>\n",
       "      <td>10029</td>\n",
       "      <td>MANHATTAN</td>\n",
       "      <td>40.791709</td>\n",
       "      <td>-73.937064</td>\n",
       "      <td>31 days 08:25:55</td>\n",
       "      <td>201609</td>\n",
       "      <td>31.351331</td>\n",
       "    </tr>\n",
       "    <tr>\n",
       "      <th>1</th>\n",
       "      <td>2016-09-20 16:41:40</td>\n",
       "      <td>2016-09-24 09:41:28</td>\n",
       "      <td>HPD</td>\n",
       "      <td>10460</td>\n",
       "      <td>BRONX</td>\n",
       "      <td>40.833706</td>\n",
       "      <td>-73.895943</td>\n",
       "      <td>3 days 16:59:48</td>\n",
       "      <td>201609</td>\n",
       "      <td>3.708194</td>\n",
       "    </tr>\n",
       "    <tr>\n",
       "      <th>1</th>\n",
       "      <td>2016-09-20 11:36:46</td>\n",
       "      <td>2016-10-21 20:02:41</td>\n",
       "      <td>HPD</td>\n",
       "      <td>10029</td>\n",
       "      <td>MANHATTAN</td>\n",
       "      <td>40.791709</td>\n",
       "      <td>-73.937064</td>\n",
       "      <td>31 days 08:25:55</td>\n",
       "      <td>201609</td>\n",
       "      <td>31.351331</td>\n",
       "    </tr>\n",
       "    <tr>\n",
       "      <th>1</th>\n",
       "      <td>2016-09-20 13:41:33</td>\n",
       "      <td>2016-10-11 02:04:05</td>\n",
       "      <td>HPD</td>\n",
       "      <td>11432</td>\n",
       "      <td>QUEENS</td>\n",
       "      <td>40.711279</td>\n",
       "      <td>-73.788951</td>\n",
       "      <td>20 days 12:22:32</td>\n",
       "      <td>201609</td>\n",
       "      <td>20.515648</td>\n",
       "    </tr>\n",
       "  </tbody>\n",
       "</table>\n",
       "<p>799323 rows × 10 columns</p>\n",
       "</div>"
      ],
      "text/plain": [
       "                  Created Date         Closed Date Agency Incident Zip  \\\n",
       "Unique Key                                                               \n",
       "1          2016-09-01 00:33:42 2016-09-16 01:06:56    DCA        10001   \n",
       "1          2016-09-01 20:16:24 2016-09-10 18:08:25    HPD        11691   \n",
       "1          2016-09-01 12:17:00 2016-09-07 12:00:00   DSNY        11211   \n",
       "1          2016-09-01 12:10:22 2016-09-10 14:23:44    HPD        10027   \n",
       "1          2016-09-01 12:32:32 2016-09-11 02:03:37    HPD        10452   \n",
       "...                        ...                 ...    ...          ...   \n",
       "1          2016-09-20 15:02:25 2016-09-24 09:33:13    HPD        10469   \n",
       "1          2016-09-20 11:36:47 2016-10-21 20:02:42    HPD        10029   \n",
       "1          2016-09-20 16:41:40 2016-09-24 09:41:28    HPD        10460   \n",
       "1          2016-09-20 11:36:46 2016-10-21 20:02:41    HPD        10029   \n",
       "1          2016-09-20 13:41:33 2016-10-11 02:04:05    HPD        11432   \n",
       "\n",
       "              Borough   Latitude  Longitude  processing_time  yyyymm  \\\n",
       "Unique Key                                                             \n",
       "1           MANHATTAN  40.744790 -73.988834 15 days 00:33:14  201609   \n",
       "1              QUEENS  40.600554 -73.750704  8 days 21:52:01  201609   \n",
       "1            BROOKLYN  40.704925 -73.962007  5 days 23:43:00  201609   \n",
       "1           MANHATTAN  40.812322 -73.955338  9 days 02:13:22  201609   \n",
       "1               BRONX  40.839529 -73.922534  9 days 13:31:05  201609   \n",
       "...               ...        ...        ...              ...     ...   \n",
       "1               BRONX  40.877527 -73.847712  3 days 18:30:48  201609   \n",
       "1           MANHATTAN  40.791709 -73.937064 31 days 08:25:55  201609   \n",
       "1               BRONX  40.833706 -73.895943  3 days 16:59:48  201609   \n",
       "1           MANHATTAN  40.791709 -73.937064 31 days 08:25:55  201609   \n",
       "1              QUEENS  40.711279 -73.788951 20 days 12:22:32  201609   \n",
       "\n",
       "            float_time  \n",
       "Unique Key              \n",
       "1            15.023079  \n",
       "1             8.911123  \n",
       "1             5.988194  \n",
       "1             9.092616  \n",
       "1             9.563252  \n",
       "...                ...  \n",
       "1             3.771389  \n",
       "1            31.351331  \n",
       "1             3.708194  \n",
       "1            31.351331  \n",
       "1            20.515648  \n",
       "\n",
       "[799323 rows x 10 columns]"
      ]
     },
     "execution_count": 23,
     "metadata": {},
     "output_type": "execute_result"
    }
   ],
   "source": [
    "data"
   ]
  },
  {
   "cell_type": "code",
   "execution_count": 25,
   "metadata": {},
   "outputs": [
    {
     "data": {
      "text/html": [
       "<div>\n",
       "<style scoped>\n",
       "    .dataframe tbody tr th:only-of-type {\n",
       "        vertical-align: middle;\n",
       "    }\n",
       "\n",
       "    .dataframe tbody tr th {\n",
       "        vertical-align: top;\n",
       "    }\n",
       "\n",
       "    .dataframe thead th {\n",
       "        text-align: right;\n",
       "    }\n",
       "</style>\n",
       "<table border=\"1\" class=\"dataframe\">\n",
       "  <thead>\n",
       "    <tr style=\"text-align: right;\">\n",
       "      <th></th>\n",
       "      <th>float_time</th>\n",
       "    </tr>\n",
       "    <tr>\n",
       "      <th>Agency</th>\n",
       "      <th></th>\n",
       "    </tr>\n",
       "  </thead>\n",
       "  <tbody>\n",
       "    <tr>\n",
       "      <th>3-1-1</th>\n",
       "      <td>0.016513</td>\n",
       "    </tr>\n",
       "    <tr>\n",
       "      <th>NYPD</th>\n",
       "      <td>0.205126</td>\n",
       "    </tr>\n",
       "    <tr>\n",
       "      <th>DHS</th>\n",
       "      <td>0.207951</td>\n",
       "    </tr>\n",
       "    <tr>\n",
       "      <th>DOF</th>\n",
       "      <td>2.728715</td>\n",
       "    </tr>\n",
       "    <tr>\n",
       "      <th>DSNY</th>\n",
       "      <td>3.052327</td>\n",
       "    </tr>\n",
       "    <tr>\n",
       "      <th>DEP</th>\n",
       "      <td>3.520583</td>\n",
       "    </tr>\n",
       "    <tr>\n",
       "      <th>DOT</th>\n",
       "      <td>4.447129</td>\n",
       "    </tr>\n",
       "    <tr>\n",
       "      <th>DFTA</th>\n",
       "      <td>8.465869</td>\n",
       "    </tr>\n",
       "    <tr>\n",
       "      <th>HPD</th>\n",
       "      <td>8.799452</td>\n",
       "    </tr>\n",
       "    <tr>\n",
       "      <th>DCA</th>\n",
       "      <td>9.254590</td>\n",
       "    </tr>\n",
       "    <tr>\n",
       "      <th>DOE</th>\n",
       "      <td>11.360792</td>\n",
       "    </tr>\n",
       "    <tr>\n",
       "      <th>DOB</th>\n",
       "      <td>12.345634</td>\n",
       "    </tr>\n",
       "    <tr>\n",
       "      <th>DOHMH</th>\n",
       "      <td>15.897552</td>\n",
       "    </tr>\n",
       "    <tr>\n",
       "      <th>DOITT</th>\n",
       "      <td>18.300134</td>\n",
       "    </tr>\n",
       "    <tr>\n",
       "      <th>TLC</th>\n",
       "      <td>24.196724</td>\n",
       "    </tr>\n",
       "    <tr>\n",
       "      <th>DPR</th>\n",
       "      <td>24.395774</td>\n",
       "    </tr>\n",
       "    <tr>\n",
       "      <th>FDNY</th>\n",
       "      <td>32.995208</td>\n",
       "    </tr>\n",
       "    <tr>\n",
       "      <th>EDC</th>\n",
       "      <td>49.604041</td>\n",
       "    </tr>\n",
       "  </tbody>\n",
       "</table>\n",
       "</div>"
      ],
      "text/plain": [
       "        float_time\n",
       "Agency            \n",
       "3-1-1     0.016513\n",
       "NYPD      0.205126\n",
       "DHS       0.207951\n",
       "DOF       2.728715\n",
       "DSNY      3.052327\n",
       "DEP       3.520583\n",
       "DOT       4.447129\n",
       "DFTA      8.465869\n",
       "HPD       8.799452\n",
       "DCA       9.254590\n",
       "DOE      11.360792\n",
       "DOB      12.345634\n",
       "DOHMH    15.897552\n",
       "DOITT    18.300134\n",
       "TLC      24.196724\n",
       "DPR      24.395774\n",
       "FDNY     32.995208\n",
       "EDC      49.604041"
      ]
     },
     "execution_count": 25,
     "metadata": {},
     "output_type": "execute_result"
    }
   ],
   "source": [
    "grouped = data[['float_time','Agency']].groupby('Agency')\n",
    "grouped.mean().sort_values('float_time',ascending=True)"
   ]
  },
  {
   "cell_type": "markdown",
   "metadata": {},
   "source": [
    "Although having the most service requests, HPD and NYPD had among the quickest processing times."
   ]
  },
  {
   "cell_type": "markdown",
   "metadata": {},
   "source": [
    "## Conclusion"
   ]
  },
  {
   "cell_type": "markdown",
   "metadata": {},
   "source": [
    "From the data provided, Brooklyn had the most incident service request compared to the other boroughs. Additionaly, all of the boroughs had mostly service requests from the HPD and NYPD. Despite this massive amount of incident requests, both the HPD and the NYPD were the top three agencies with fast processing times. "
   ]
  },
  {
   "cell_type": "markdown",
   "metadata": {},
   "source": [
    "Github :https://github.com/gabriel-olufade/\n",
    "\n",
    "LinkedIn: https://www.linkedin.com/in/gabrielolufade/"
   ]
  }
 ],
 "metadata": {
  "kernelspec": {
   "display_name": "Python 3",
   "language": "python",
   "name": "python3"
  },
  "language_info": {
   "codemirror_mode": {
    "name": "ipython",
    "version": 3
   },
   "file_extension": ".py",
   "mimetype": "text/x-python",
   "name": "python",
   "nbconvert_exporter": "python",
   "pygments_lexer": "ipython3",
   "version": "3.7.6"
  }
 },
 "nbformat": 4,
 "nbformat_minor": 4
}
