{
 "cells": [
  {
   "cell_type": "markdown",
   "metadata": {},
   "source": [
    "# New York City 311 Service Requests"
   ]
  },
  {
   "cell_type": "markdown",
   "metadata": {},
   "source": [
    "In this project, I will analyse which New York City boroughs have recieved the most incident service requests based on the agency involved. The dataset used is a subset from the 311 Service Requests from 2010 to Present dataset on the NYC Open Data website (https://nycopendata.socrata.com/Social-Services/311-Service-Requests-from-2010-to-Present/erm2-nwe9)."
   ]
  },
  {
   "cell_type": "markdown",
   "metadata": {},
   "source": [
    "First, let's import our packages."
   ]
  },
  {
   "cell_type": "code",
   "execution_count": 26,
   "metadata": {},
   "outputs": [],
   "source": [
    "import pandas as pd\n",
    "import numpy as np\n",
    "import matplotlib.pyplot as plt"
   ]
  },
  {
   "cell_type": "markdown",
   "metadata": {},
   "source": [
    "Let's take a look at our data."
   ]
  },
  {
   "cell_type": "code",
   "execution_count": 6,
   "metadata": {},
   "outputs": [
    {
     "name": "stderr",
     "output_type": "stream",
     "text": [
      "C:\\Users\\Jonthan\\anaconda3\\lib\\site-packages\\IPython\\core\\interactiveshell.py:3063: DtypeWarning: Columns (4) have mixed types.Specify dtype option on import or set low_memory=False.\n",
      "  interactivity=interactivity, compiler=compiler, result=result)\n"
     ]
    },
    {
     "data": {
      "text/html": [
       "<div>\n",
       "<style scoped>\n",
       "    .dataframe tbody tr th:only-of-type {\n",
       "        vertical-align: middle;\n",
       "    }\n",
       "\n",
       "    .dataframe tbody tr th {\n",
       "        vertical-align: top;\n",
       "    }\n",
       "\n",
       "    .dataframe thead th {\n",
       "        text-align: right;\n",
       "    }\n",
       "</style>\n",
       "<table border=\"1\" class=\"dataframe\">\n",
       "  <thead>\n",
       "    <tr style=\"text-align: right;\">\n",
       "      <th></th>\n",
       "      <th>Unique Key</th>\n",
       "      <th>Created Date</th>\n",
       "      <th>Closed Date</th>\n",
       "      <th>Agency</th>\n",
       "      <th>Incident Zip</th>\n",
       "      <th>Borough</th>\n",
       "      <th>Latitude</th>\n",
       "      <th>Longitude</th>\n",
       "    </tr>\n",
       "  </thead>\n",
       "  <tbody>\n",
       "    <tr>\n",
       "      <th>0</th>\n",
       "      <td>1</td>\n",
       "      <td>10/11/2016 11:53:00 AM</td>\n",
       "      <td>10/11/2016 12:00:00 PM</td>\n",
       "      <td>DSNY</td>\n",
       "      <td>NaN</td>\n",
       "      <td>QUEENS</td>\n",
       "      <td>NaN</td>\n",
       "      <td>NaN</td>\n",
       "    </tr>\n",
       "    <tr>\n",
       "      <th>1</th>\n",
       "      <td>1</td>\n",
       "      <td>10/11/2016 11:36:00 AM</td>\n",
       "      <td>10/11/2016 12:00:00 PM</td>\n",
       "      <td>DSNY</td>\n",
       "      <td>NaN</td>\n",
       "      <td>QUEENS</td>\n",
       "      <td>NaN</td>\n",
       "      <td>NaN</td>\n",
       "    </tr>\n",
       "    <tr>\n",
       "      <th>2</th>\n",
       "      <td>1</td>\n",
       "      <td>10/11/2016 11:36:00 AM</td>\n",
       "      <td>10/11/2016 12:00:00 PM</td>\n",
       "      <td>DSNY</td>\n",
       "      <td>NaN</td>\n",
       "      <td>QUEENS</td>\n",
       "      <td>NaN</td>\n",
       "      <td>NaN</td>\n",
       "    </tr>\n",
       "    <tr>\n",
       "      <th>3</th>\n",
       "      <td>1</td>\n",
       "      <td>10/11/2016 12:39:00 PM</td>\n",
       "      <td>10/11/2016 12:39:00 PM</td>\n",
       "      <td>DSNY</td>\n",
       "      <td>NaN</td>\n",
       "      <td>QUEENS</td>\n",
       "      <td>NaN</td>\n",
       "      <td>NaN</td>\n",
       "    </tr>\n",
       "    <tr>\n",
       "      <th>4</th>\n",
       "      <td>1</td>\n",
       "      <td>10/11/2016 12:18:00 PM</td>\n",
       "      <td>10/11/2016 12:18:00 PM</td>\n",
       "      <td>DSNY</td>\n",
       "      <td>NaN</td>\n",
       "      <td>QUEENS</td>\n",
       "      <td>NaN</td>\n",
       "      <td>NaN</td>\n",
       "    </tr>\n",
       "  </tbody>\n",
       "</table>\n",
       "</div>"
      ],
      "text/plain": [
       "   Unique Key            Created Date             Closed Date Agency  \\\n",
       "0           1  10/11/2016 11:53:00 AM  10/11/2016 12:00:00 PM   DSNY   \n",
       "1           1  10/11/2016 11:36:00 AM  10/11/2016 12:00:00 PM   DSNY   \n",
       "2           1  10/11/2016 11:36:00 AM  10/11/2016 12:00:00 PM   DSNY   \n",
       "3           1  10/11/2016 12:39:00 PM  10/11/2016 12:39:00 PM   DSNY   \n",
       "4           1  10/11/2016 12:18:00 PM  10/11/2016 12:18:00 PM   DSNY   \n",
       "\n",
       "  Incident Zip Borough  Latitude  Longitude  \n",
       "0          NaN  QUEENS       NaN        NaN  \n",
       "1          NaN  QUEENS       NaN        NaN  \n",
       "2          NaN  QUEENS       NaN        NaN  \n",
       "3          NaN  QUEENS       NaN        NaN  \n",
       "4          NaN  QUEENS       NaN        NaN  "
      ]
     },
     "execution_count": 6,
     "metadata": {},
     "output_type": "execute_result"
    }
   ],
   "source": [
    "df = pd.read_csv(\"nyc_311_data_subset.csv\")\n",
    "df.head()"
   ]
  },
  {
   "cell_type": "code",
   "execution_count": 9,
   "metadata": {},
   "outputs": [
    {
     "name": "stdout",
     "output_type": "stream",
     "text": [
      "<class 'pandas.core.frame.DataFrame'>\n",
      "RangeIndex: 971063 entries, 0 to 971062\n",
      "Data columns (total 8 columns):\n",
      " #   Column        Non-Null Count   Dtype  \n",
      "---  ------        --------------   -----  \n",
      " 0   Unique Key    971063 non-null  int64  \n",
      " 1   Created Date  971063 non-null  object \n",
      " 2   Closed Date   882944 non-null  object \n",
      " 3   Agency        971063 non-null  object \n",
      " 4   Incident Zip  911140 non-null  object \n",
      " 5   Borough       971063 non-null  object \n",
      " 6   Latitude      887284 non-null  float64\n",
      " 7   Longitude     887284 non-null  float64\n",
      "dtypes: float64(2), int64(1), object(5)\n",
      "memory usage: 59.3+ MB\n"
     ]
    }
   ],
   "source": [
    "df.info()\n",
    "#comparing the number of entries to the non-null values in addition to the data type of each column"
   ]
  },
  {
   "cell_type": "markdown",
   "metadata": {},
   "source": [
    "To get any statistical significance out of the data, we have to get rid of the null values in it.\n",
    "Therefore, data cleaning is essential in better understanding our data."
   ]
  },
  {
   "cell_type": "markdown",
   "metadata": {},
   "source": [
    "## Data Cleaning"
   ]
  },
  {
   "cell_type": "markdown",
   "metadata": {},
   "source": [
    "In this step, I noticed that the zip codes were not properly formatted: in strings, with more or less than five digits, or extremes. I dropped all rows with null values and unspecified boroughs. Using feature engineering, I created a new column to calculate the time it takes to complete a service request for each incident. I took all these and placed it inside a function that applys these data cleaning processes to the dataset."
   ]
  },
  {
   "cell_type": "code",
   "execution_count": 11,
   "metadata": {},
   "outputs": [],
   "source": [
    "def read_311_data(datafile):\n",
    "    import pandas as pd\n",
    "    import numpy as np\n",
    "    \n",
    "    #Add the fix_zip function\n",
    "    def fix_zip(input_zip):\n",
    "        try:\n",
    "            input_zip = int(float(input_zip))\n",
    "        except:\n",
    "            try:\n",
    "                input_zip = int(input_zip.split('-')[0])\n",
    "            except:\n",
    "                return np.NaN\n",
    "        if input_zip < 10000 or input_zip > 19999:\n",
    "            return np.NaN\n",
    "        return str(input_zip)\n",
    "    \n",
    "    #Read the file\n",
    "    df = pd.read_csv(datafile,index_col='Unique Key')\n",
    "    \n",
    "    #fix the zip\n",
    "    df['Incident Zip'] = df['Incident Zip'].apply(fix_zip)\n",
    "    \n",
    "    #drop all rows that have any nans in them (note the easier syntax!)\n",
    "    \n",
    "    df = df.dropna(how='any')\n",
    "    \n",
    "    #get rid of unspecified boroughs\n",
    "    df = df[df['Borough'] != 'Unspecified']\n",
    "    \n",
    "    #Convert times to datetime and create a processing time column\n",
    "    \n",
    "    import datetime\n",
    "    df['Created Date'] = df['Created Date'].apply(lambda x:datetime.datetime.strptime(x,'%m/%d/%Y %I:%M:%S %p'))\n",
    "    df['Closed Date'] = df['Closed Date'].apply(lambda x:datetime.datetime.strptime(x,'%m/%d/%Y %I:%M:%S %p'))\n",
    "    df['processing_time'] =  df['Closed Date'] - df['Created Date']\n",
    "    \n",
    "    #Finally, get rid of negative processing times and return the final data frame\n",
    "    \n",
    "    df = df[df['processing_time']>=datetime.timedelta(0,0,0)]\n",
    "    \n",
    "    return df"
   ]
  },
  {
   "cell_type": "code",
   "execution_count": 12,
   "metadata": {},
   "outputs": [
    {
     "name": "stderr",
     "output_type": "stream",
     "text": [
      "C:\\Users\\Jonthan\\anaconda3\\lib\\site-packages\\IPython\\core\\interactiveshell.py:3254: DtypeWarning: Columns (4) have mixed types.Specify dtype option on import or set low_memory=False.\n",
      "  if (await self.run_code(code, result,  async_=asy)):\n"
     ]
    }
   ],
   "source": [
    "datafile = \"nyc_311_data_subset.csv\"\n",
    "data = read_311_data(datafile)"
   ]
  },
  {
   "cell_type": "code",
   "execution_count": 13,
   "metadata": {},
   "outputs": [
    {
     "data": {
      "text/html": [
       "<div>\n",
       "<style scoped>\n",
       "    .dataframe tbody tr th:only-of-type {\n",
       "        vertical-align: middle;\n",
       "    }\n",
       "\n",
       "    .dataframe tbody tr th {\n",
       "        vertical-align: top;\n",
       "    }\n",
       "\n",
       "    .dataframe thead th {\n",
       "        text-align: right;\n",
       "    }\n",
       "</style>\n",
       "<table border=\"1\" class=\"dataframe\">\n",
       "  <thead>\n",
       "    <tr style=\"text-align: right;\">\n",
       "      <th></th>\n",
       "      <th>Created Date</th>\n",
       "      <th>Closed Date</th>\n",
       "      <th>Agency</th>\n",
       "      <th>Incident Zip</th>\n",
       "      <th>Borough</th>\n",
       "      <th>Latitude</th>\n",
       "      <th>Longitude</th>\n",
       "      <th>processing_time</th>\n",
       "    </tr>\n",
       "    <tr>\n",
       "      <th>Unique Key</th>\n",
       "      <th></th>\n",
       "      <th></th>\n",
       "      <th></th>\n",
       "      <th></th>\n",
       "      <th></th>\n",
       "      <th></th>\n",
       "      <th></th>\n",
       "      <th></th>\n",
       "    </tr>\n",
       "  </thead>\n",
       "  <tbody>\n",
       "    <tr>\n",
       "      <th>1</th>\n",
       "      <td>2016-09-01 00:33:42</td>\n",
       "      <td>2016-09-16 01:06:56</td>\n",
       "      <td>DCA</td>\n",
       "      <td>10001</td>\n",
       "      <td>MANHATTAN</td>\n",
       "      <td>40.744790</td>\n",
       "      <td>-73.988834</td>\n",
       "      <td>15 days 00:33:14</td>\n",
       "    </tr>\n",
       "    <tr>\n",
       "      <th>1</th>\n",
       "      <td>2016-09-01 20:16:24</td>\n",
       "      <td>2016-09-10 18:08:25</td>\n",
       "      <td>HPD</td>\n",
       "      <td>11691</td>\n",
       "      <td>QUEENS</td>\n",
       "      <td>40.600554</td>\n",
       "      <td>-73.750704</td>\n",
       "      <td>8 days 21:52:01</td>\n",
       "    </tr>\n",
       "    <tr>\n",
       "      <th>1</th>\n",
       "      <td>2016-09-01 12:17:00</td>\n",
       "      <td>2016-09-07 12:00:00</td>\n",
       "      <td>DSNY</td>\n",
       "      <td>11211</td>\n",
       "      <td>BROOKLYN</td>\n",
       "      <td>40.704925</td>\n",
       "      <td>-73.962007</td>\n",
       "      <td>5 days 23:43:00</td>\n",
       "    </tr>\n",
       "    <tr>\n",
       "      <th>1</th>\n",
       "      <td>2016-09-01 12:10:22</td>\n",
       "      <td>2016-09-10 14:23:44</td>\n",
       "      <td>HPD</td>\n",
       "      <td>10027</td>\n",
       "      <td>MANHATTAN</td>\n",
       "      <td>40.812322</td>\n",
       "      <td>-73.955338</td>\n",
       "      <td>9 days 02:13:22</td>\n",
       "    </tr>\n",
       "    <tr>\n",
       "      <th>1</th>\n",
       "      <td>2016-09-01 12:32:32</td>\n",
       "      <td>2016-09-11 02:03:37</td>\n",
       "      <td>HPD</td>\n",
       "      <td>10452</td>\n",
       "      <td>BRONX</td>\n",
       "      <td>40.839529</td>\n",
       "      <td>-73.922534</td>\n",
       "      <td>9 days 13:31:05</td>\n",
       "    </tr>\n",
       "  </tbody>\n",
       "</table>\n",
       "</div>"
      ],
      "text/plain": [
       "                  Created Date         Closed Date Agency Incident Zip  \\\n",
       "Unique Key                                                               \n",
       "1          2016-09-01 00:33:42 2016-09-16 01:06:56    DCA        10001   \n",
       "1          2016-09-01 20:16:24 2016-09-10 18:08:25    HPD        11691   \n",
       "1          2016-09-01 12:17:00 2016-09-07 12:00:00   DSNY        11211   \n",
       "1          2016-09-01 12:10:22 2016-09-10 14:23:44    HPD        10027   \n",
       "1          2016-09-01 12:32:32 2016-09-11 02:03:37    HPD        10452   \n",
       "\n",
       "              Borough   Latitude  Longitude  processing_time  \n",
       "Unique Key                                                    \n",
       "1           MANHATTAN  40.744790 -73.988834 15 days 00:33:14  \n",
       "1              QUEENS  40.600554 -73.750704  8 days 21:52:01  \n",
       "1            BROOKLYN  40.704925 -73.962007  5 days 23:43:00  \n",
       "1           MANHATTAN  40.812322 -73.955338  9 days 02:13:22  \n",
       "1               BRONX  40.839529 -73.922534  9 days 13:31:05  "
      ]
     },
     "execution_count": 13,
     "metadata": {},
     "output_type": "execute_result"
    }
   ],
   "source": [
    "data.head()"
   ]
  },
  {
   "cell_type": "markdown",
   "metadata": {},
   "source": [
    "## Incidents by Borough"
   ]
  },
  {
   "cell_type": "markdown",
   "metadata": {},
   "source": [
    "Now that our data is cleaned, we can group the data by borough and plot a bar chart of incident count."
   ]
  },
  {
   "cell_type": "code",
   "execution_count": 30,
   "metadata": {},
   "outputs": [
    {
     "data": {
      "image/png": "[encoded data removed]",
      "text/plain": [
       "<Figure size 432x288 with 1 Axes>"
      ]
     },
     "metadata": {
      "needs_background": "light"
     },
     "output_type": "display_data"
    }
   ],
   "source": [
    "%matplotlib inline\n",
    "borough_group = data.groupby('Borough')\n",
    "borough_group.size().plot(kind='bar')\n",
    "#kind can be 'hist', 'scatter'\n",
    "plt.ylabel('Incident counts')\n",
    "plt.title('Incident counts from each borough')\n",
    "plt.show()"
   ]
  },
  {
   "cell_type": "markdown",
   "metadata": {},
   "source": []
  }
 ],
 "metadata": {
  "kernelspec": {
   "display_name": "Python 3",
   "language": "python",
   "name": "python3"
  },
  "language_info": {
   "codemirror_mode": {
    "name": "ipython",
    "version": 3
   },
   "file_extension": ".py",
   "mimetype": "text/x-python",
   "name": "python",
   "nbconvert_exporter": "python",
   "pygments_lexer": "ipython3",
   "version": "3.7.6"
  }
 },
 "nbformat": 4,
 "nbformat_minor": 4
}
